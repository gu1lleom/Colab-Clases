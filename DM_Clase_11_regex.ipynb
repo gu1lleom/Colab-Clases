{
  "nbformat": 4,
  "nbformat_minor": 0,
  "metadata": {
    "colab": {
      "name": "Clase 11 - regex.ipynb",
      "provenance": [],
      "collapsed_sections": [
        "tz7oIh5c0W_H",
        "WBzpUO-74Vp8"
      ],
      "toc_visible": true
    },
    "kernelspec": {
      "name": "python3",
      "display_name": "Python 3"
    },
    "language_info": {
      "name": "python"
    }
  },
  "cells": [
    {
      "cell_type": "markdown",
      "source": [
        "# Expresiones regulares\n",
        "\n",
        "Las expresiones regulares (RE o regex) son cadenas de caracteres que especifican reglas que deben cumplir las posibles cadenas de caracteres que quiero hacer coincidir. Veamos algunos ejemplos de uso\n",
        "\n"
      ],
      "metadata": {
        "id": "MXht47msunA0"
      }
    },
    {
      "cell_type": "code",
      "execution_count": 1,
      "metadata": {
        "colab": {
          "base_uri": "https://localhost:8080/"
        },
        "id": "_an0n4MmuiH-",
        "outputId": "1c516e35-7e4d-45f5-bd14-a81cbc9cbda2"
      },
      "outputs": [
        {
          "output_type": "stream",
          "name": "stdout",
          "text": [
            "habitaciones:  ['3', 'cuatro', 'una']\n",
            "baños:  ['1', 'dos', 'no tiene']\n"
          ]
        }
      ],
      "source": [
        "import re\n",
        "\n",
        "texto = \"\"\"\n",
        "    El primer departamento tiene 3 habitaciones y 1 baño.\n",
        "    El segundo departamento tiene cuatro habitaciones y dos baños.\n",
        "    El tercero tiene una habitación y no tiene baño.\n",
        "\"\"\"\n",
        "\n",
        "patron = \"(\\d|un|una|dos|tres|cuatro|cinco) habitaci[ón|ones]\"\n",
        "print(\"habitaciones: \", re.findall(patron, texto))\n",
        "\n",
        "patron = \"(\\d|un|dos|tres|no tiene) baño[s]*\"\n",
        "print(\"baños: \", re.findall(patron, texto))"
      ]
    },
    {
      "cell_type": "markdown",
      "source": [
        "## Patrones simples"
      ],
      "metadata": {
        "id": "tz7oIh5c0W_H"
      }
    },
    {
      "cell_type": "markdown",
      "source": [
        "La mayoría de las letras y números coinciden con sí mismos. "
      ],
      "metadata": {
        "id": "fvf5aCiZwUDp"
      }
    },
    {
      "cell_type": "code",
      "source": [
        "texto = \"abcd\"\n",
        "\n",
        "# coincide totalmente\n",
        "patron = \"abcd\"\n",
        "print(re.match(patron, texto))\n",
        "\n",
        "# coincide parcialmente\n",
        "patron = \"abc\"\n",
        "print(re.match(patron, texto))\n",
        "\n",
        "# no coincide\n",
        "patron = \"aa\"\n",
        "print(re.match(patron, texto))"
      ],
      "metadata": {
        "colab": {
          "base_uri": "https://localhost:8080/"
        },
        "id": "m9PQjPS5vKh-",
        "outputId": "f559f496-c517-4ff2-e1ac-1710816503da"
      },
      "execution_count": null,
      "outputs": [
        {
          "output_type": "stream",
          "name": "stdout",
          "text": [
            "<re.Match object; span=(0, 4), match='abcd'>\n",
            "<re.Match object; span=(0, 3), match='abc'>\n",
            "None\n"
          ]
        }
      ]
    },
    {
      "cell_type": "markdown",
      "source": [
        "Para que ignore las minúsculas y mayúsculas hay que pasarle el *flag* re.IGNORECASE a la función *match*"
      ],
      "metadata": {
        "id": "XfSrwJ2iw4_b"
      }
    },
    {
      "cell_type": "code",
      "source": [
        "texto = \"Abcd\"\n",
        "\n",
        "# no coincide\n",
        "patron = \"abcd\"\n",
        "print(re.match(patron, texto))\n",
        "\n",
        "# coincide\n",
        "patron = \"abcd\"\n",
        "print(re.match(patron, texto, re.IGNORECASE))"
      ],
      "metadata": {
        "colab": {
          "base_uri": "https://localhost:8080/"
        },
        "id": "mvsBSviUwsft",
        "outputId": "9c9152b9-416a-4c16-c0bf-b1469b017157"
      },
      "execution_count": null,
      "outputs": [
        {
          "output_type": "stream",
          "name": "stdout",
          "text": [
            "None\n",
            "<re.Match object; span=(0, 4), match='Abcd'>\n"
          ]
        }
      ]
    },
    {
      "cell_type": "markdown",
      "source": [
        "Algunos caracteres llamados \"metacaracteres\" cumplen una función especial dentro de los patrones. La lista completa es esta: [ ] . ^ $ * + ? { } \\ | ( )\n"
      ],
      "metadata": {
        "id": "aSzYxNcF1Mg_"
      }
    },
    {
      "cell_type": "markdown",
      "source": [
        " [ y ] especifican un conjunto de caracteres o un rango que se desea coincidir."
      ],
      "metadata": {
        "id": "ot4ZeibQ15sQ"
      }
    },
    {
      "cell_type": "code",
      "source": [
        "patron = \"a[bc]d\" # a, un caracter b o c, d\n",
        "\n",
        "# coincide\n",
        "texto = \"abd\"\n",
        "print(re.match(patron, texto))\n",
        "\n",
        "# coincide\n",
        "texto = \"acd\"\n",
        "print(re.match(patron, texto))\n",
        "\n",
        "# no coincide\n",
        "texto = \"ad\"\n",
        "print(re.match(patron, texto))"
      ],
      "metadata": {
        "colab": {
          "base_uri": "https://localhost:8080/"
        },
        "id": "oPw0vXx41sNi",
        "outputId": "d21af133-fe8e-4ce7-e4ba-41150b1f8e04"
      },
      "execution_count": null,
      "outputs": [
        {
          "output_type": "stream",
          "name": "stdout",
          "text": [
            "<re.Match object; span=(0, 3), match='abd'>\n",
            "<re.Match object; span=(0, 3), match='acd'>\n",
            "None\n"
          ]
        }
      ]
    },
    {
      "cell_type": "code",
      "source": [
        "patron = \"a[0-9]d\" # a, un caracter de 0 a 9, d\n",
        "\n",
        "# coincide\n",
        "texto = \"a0d\"\n",
        "print(re.match(patron, texto))\n",
        "\n",
        "# coincide\n",
        "texto = \"a9d\"\n",
        "print(re.match(patron, texto))\n",
        "\n",
        "# no coincide\n",
        "texto = \"a78d\"\n",
        "print(re.match(patron, texto))"
      ],
      "metadata": {
        "colab": {
          "base_uri": "https://localhost:8080/"
        },
        "id": "KZIuoLKD1ku0",
        "outputId": "445316aa-8289-4b5f-9543-5ef3fda8539b"
      },
      "execution_count": null,
      "outputs": [
        {
          "output_type": "stream",
          "name": "stdout",
          "text": [
            "<re.Match object; span=(0, 3), match='a0d'>\n",
            "<re.Match object; span=(0, 3), match='a9d'>\n",
            "None\n"
          ]
        }
      ]
    },
    {
      "cell_type": "code",
      "source": [
        "patron = \"a[^0-9]d\" # a, cualquier caracter excepto 0 a 9, d\n",
        "\n",
        "# no coincide\n",
        "texto = \"a0d\"\n",
        "print(re.match(patron, texto))\n",
        "\n",
        "# no coincide\n",
        "texto = \"a9d\"\n",
        "print(re.match(patron, texto))\n",
        "\n",
        "# coincide\n",
        "texto = \"acd\"\n",
        "print(re.match(patron, texto))"
      ],
      "metadata": {
        "colab": {
          "base_uri": "https://localhost:8080/"
        },
        "id": "NSwbZU5AxZl1",
        "outputId": "80dd505b-2bd7-445d-96f2-68217b831ff0"
      },
      "execution_count": null,
      "outputs": [
        {
          "output_type": "stream",
          "name": "stdout",
          "text": [
            "None\n",
            "None\n",
            "<re.Match object; span=(0, 3), match='acd'>\n"
          ]
        }
      ]
    },
    {
      "cell_type": "markdown",
      "source": [
        "Existen secuencia predefinidas que son usuales:\n",
        "```\n",
        "\\d --> [0-9]\n",
        "\\D --> [^0-9]\n",
        "\\s --> [ \\t\\n\\r\\f\\v]\n",
        "\\S --> [^ \\t\\n\\r\\f\\v]\n",
        "\\w --> [a-zA-Z0-9_]\n",
        "\\W --> [^a-zA-Z0-9_]\n",
        "```"
      ],
      "metadata": {
        "id": "GUlh6GjO3aEH"
      }
    },
    {
      "cell_type": "code",
      "source": [
        "patron = \"a\\dz\" # a, un dígito, z\n",
        "\n",
        "# coincide\n",
        "texto = \"a0z\"\n",
        "print(re.match(patron, texto))\n",
        "\n",
        "# no coincide\n",
        "texto = \"abz\"\n",
        "print(re.match(patron, texto))\n"
      ],
      "metadata": {
        "colab": {
          "base_uri": "https://localhost:8080/"
        },
        "id": "IntTiJL93D1F",
        "outputId": "37f1cf25-db57-4205-a075-3e5c776e558a"
      },
      "execution_count": null,
      "outputs": [
        {
          "output_type": "stream",
          "name": "stdout",
          "text": [
            "<re.Match object; span=(0, 3), match='a0z'>\n",
            "None\n"
          ]
        }
      ]
    },
    {
      "cell_type": "code",
      "source": [
        "patron = \"a\\wz\" # a, un caracter (mayúscula o minúscula) o dígito o _, z\n",
        "\n",
        "# coincide\n",
        "texto = \"a0z\"\n",
        "print(re.match(patron, texto))\n",
        "\n",
        "# coincide\n",
        "texto = \"a_z\"\n",
        "print(re.match(patron, texto))"
      ],
      "metadata": {
        "colab": {
          "base_uri": "https://localhost:8080/"
        },
        "id": "0HR7Myx-395W",
        "outputId": "0146f3d5-7e4e-4f1a-d71f-b0a1750ba2af"
      },
      "execution_count": 4,
      "outputs": [
        {
          "output_type": "stream",
          "name": "stdout",
          "text": [
            "<re.Match object; span=(0, 3), match='a0z'>\n",
            "<re.Match object; span=(0, 3), match='a_z'>\n"
          ]
        }
      ]
    },
    {
      "cell_type": "markdown",
      "source": [
        "## Repitiendo cosas"
      ],
      "metadata": {
        "id": "WBzpUO-74Vp8"
      }
    },
    {
      "cell_type": "markdown",
      "source": [
        "Se puede espeficar que una parte de un patrón se repita una cierta cantidad de veces"
      ],
      "metadata": {
        "id": "z_VlbqWp4p-2"
      }
    },
    {
      "cell_type": "code",
      "source": [
        "patron = \"a[0-9]*z\" # a, cero, uno o más dígitos, z\n",
        "\n",
        "# coincide\n",
        "texto = \"az\"\n",
        "print(re.match(patron, texto))\n",
        "\n",
        "# coincide\n",
        "texto = \"a0z\"\n",
        "print(re.match(patron, texto))\n",
        "\n",
        "# coincide\n",
        "texto = \"a01234z\"\n",
        "print(re.match(patron, texto))"
      ],
      "metadata": {
        "colab": {
          "base_uri": "https://localhost:8080/"
        },
        "id": "WoDpQwVs4Yf2",
        "outputId": "322d1164-7c53-40a8-b80b-54f1f620d19b"
      },
      "execution_count": null,
      "outputs": [
        {
          "output_type": "stream",
          "name": "stdout",
          "text": [
            "<re.Match object; span=(0, 2), match='az'>\n",
            "<re.Match object; span=(0, 3), match='a0z'>\n",
            "<re.Match object; span=(0, 7), match='a01234z'>\n"
          ]
        }
      ]
    },
    {
      "cell_type": "code",
      "source": [
        "patron = \"a[0-9]+z\" # a, uno o más dígitos, z\n",
        "\n",
        "# no coincide\n",
        "texto = \"az\"\n",
        "print(re.match(patron, texto))\n",
        "\n",
        "# coincide\n",
        "texto = \"a0z\"\n",
        "print(re.match(patron, texto))\n",
        "\n",
        "# coincide\n",
        "texto = \"a01234z\"\n",
        "print(re.match(patron, texto))"
      ],
      "metadata": {
        "colab": {
          "base_uri": "https://localhost:8080/"
        },
        "id": "EtXw3SrG5EKz",
        "outputId": "db4863b4-ba05-4082-e163-1e88c0bc3782"
      },
      "execution_count": null,
      "outputs": [
        {
          "output_type": "stream",
          "name": "stdout",
          "text": [
            "None\n",
            "<re.Match object; span=(0, 3), match='a0z'>\n",
            "<re.Match object; span=(0, 7), match='a01234z'>\n"
          ]
        }
      ]
    },
    {
      "cell_type": "code",
      "source": [
        "patron = \"a[0-9]?z\" # a, cero o un dígito, z\n",
        "\n",
        "# coincide\n",
        "texto = \"az\"\n",
        "print(re.match(patron, texto))\n",
        "\n",
        "# coincide\n",
        "texto = \"a0z\"\n",
        "print(re.match(patron, texto))\n",
        "\n",
        "# no coincide\n",
        "texto = \"a01234z\"\n",
        "print(re.match(patron, texto))"
      ],
      "metadata": {
        "colab": {
          "base_uri": "https://localhost:8080/"
        },
        "id": "wk852gj25PG4",
        "outputId": "2201aa54-c7a9-4a15-c7ee-b0a39ed16cf2"
      },
      "execution_count": null,
      "outputs": [
        {
          "output_type": "stream",
          "name": "stdout",
          "text": [
            "<re.Match object; span=(0, 2), match='az'>\n",
            "<re.Match object; span=(0, 3), match='a0z'>\n",
            "None\n"
          ]
        }
      ]
    },
    {
      "cell_type": "code",
      "source": [
        "patron = \"a[0-9]{2,3}z\" # a, dos o tres dígitos, z\n",
        "\n",
        "# no coincide\n",
        "texto = \"az\"\n",
        "print(re.match(patron, texto))\n",
        "\n",
        "# coincide\n",
        "texto = \"a01z\"\n",
        "print(re.match(patron, texto))\n",
        "\n",
        "# no coincide\n",
        "texto = \"a01234z\"\n",
        "print(re.match(patron, texto))"
      ],
      "metadata": {
        "colab": {
          "base_uri": "https://localhost:8080/"
        },
        "id": "SwXh0Lpt5UA8",
        "outputId": "7473cf93-6450-42c7-e67f-7b36b35e9469"
      },
      "execution_count": null,
      "outputs": [
        {
          "output_type": "stream",
          "name": "stdout",
          "text": [
            "None\n",
            "<re.Match object; span=(0, 4), match='a01z'>\n",
            "None\n"
          ]
        }
      ]
    },
    {
      "cell_type": "code",
      "source": [
        "#texto = \"+54 9 11 15 1234 1234\"\n",
        "texto = \"11 15 1234 1234\"\n",
        "patron = \"(\\+54 9 )?11 (15 )?[0-9]{4} [0-9]{4}\"\n",
        "\n",
        "print(re.search(patron, texto))"
      ],
      "metadata": {
        "colab": {
          "base_uri": "https://localhost:8080/"
        },
        "id": "PVKgNmBWrGMl",
        "outputId": "f4c326fa-2bfb-422e-9ee9-e92412402768"
      },
      "execution_count": null,
      "outputs": [
        {
          "output_type": "stream",
          "name": "stdout",
          "text": [
            "<re.Match object; span=(0, 15), match='11 15 1234 1234'>\n"
          ]
        }
      ]
    },
    {
      "cell_type": "markdown",
      "source": [
        "## Otros metacaracteres"
      ],
      "metadata": {
        "id": "5BRXUulG8djB"
      }
    },
    {
      "cell_type": "code",
      "source": [
        "patron = \"a[0-2|7-9]z\" # a, 0, 1, 2, 7, 8 o 9, z\n",
        "\n",
        "# coincide\n",
        "texto = \"a0z\"\n",
        "print(re.match(patron, texto))\n",
        "\n",
        "# coincide\n",
        "texto = \"a9z\"\n",
        "print(re.match(patron, texto))\n",
        "\n",
        "# no coincide\n",
        "texto = \"a5z\"\n",
        "print(re.match(patron, texto))"
      ],
      "metadata": {
        "colab": {
          "base_uri": "https://localhost:8080/"
        },
        "id": "uvaDFXKe8fzf",
        "outputId": "3f1b557b-436b-49c6-919f-e0831dbade85"
      },
      "execution_count": null,
      "outputs": [
        {
          "output_type": "stream",
          "name": "stdout",
          "text": [
            "<re.Match object; span=(0, 3), match='a0z'>\n",
            "<re.Match object; span=(0, 3), match='a9z'>\n",
            "None\n"
          ]
        }
      ]
    },
    {
      "cell_type": "code",
      "source": [
        "patron = \"^[Hh]abía una vez\" # Había una vez al principio de la cadena\n",
        "\n",
        "# coincide\n",
        "texto = \"Había una vez un circo...\"\n",
        "print(re.search(patron, texto))\n",
        "\n",
        "# no coincide\n",
        "texto = \"Érase una vez...\"\n",
        "print(re.search(patron, texto))\n",
        "\n",
        "# no coincide\n",
        "texto = \"Dijo que había una vez...\"\n",
        "print(re.search(patron, texto))"
      ],
      "metadata": {
        "colab": {
          "base_uri": "https://localhost:8080/"
        },
        "id": "eIMXinD89KXn",
        "outputId": "91465745-d472-40e8-cec0-754ba4660d3e"
      },
      "execution_count": null,
      "outputs": [
        {
          "output_type": "stream",
          "name": "stdout",
          "text": [
            "<re.Match object; span=(0, 13), match='Había una vez'>\n",
            "None\n",
            "None\n"
          ]
        }
      ]
    },
    {
      "cell_type": "code",
      "source": [
        "patron = \"y eso es todo, amigos$\" # \"y eso es todo, amigos\" al final de la cadena\n",
        "\n",
        "# coincide\n",
        "texto = \"Saludos y eso es todo, amigos\"\n",
        "print(re.search(patron, texto))\n",
        "\n",
        "# no coincide\n",
        "texto = \"saludos y eso es todo, amigos!\"\n",
        "print(re.search(patron, texto))"
      ],
      "metadata": {
        "colab": {
          "base_uri": "https://localhost:8080/"
        },
        "id": "kqcSk3Rs9hLX",
        "outputId": "98c4ddf0-d455-47f8-f324-cd4493f9fc4a"
      },
      "execution_count": null,
      "outputs": [
        {
          "output_type": "stream",
          "name": "stdout",
          "text": [
            "<re.Match object; span=(8, 29), match='y eso es todo, amigos'>\n",
            "None\n"
          ]
        }
      ]
    },
    {
      "cell_type": "code",
      "source": [
        "patron = \"comienzo.+fin\" # \"comienzo\", 1 o más caracteres, \"fin\"\n",
        "\n",
        "# coincide\n",
        "texto = \"comienzoyfin\"\n",
        "print(re.search(patron, texto))\n",
        "\n",
        "# coincide\n",
        "texto = \"comienzo-fin\"\n",
        "print(re.search(patron, texto))\n",
        "\n",
        "# no coincide\n",
        "texto = \"comienzofin\"\n",
        "print(re.search(patron, texto))"
      ],
      "metadata": {
        "colab": {
          "base_uri": "https://localhost:8080/"
        },
        "id": "qZmVoAJLMXJd",
        "outputId": "2e3e69d9-4a90-4d51-a102-517eabef30ba"
      },
      "execution_count": null,
      "outputs": [
        {
          "output_type": "stream",
          "name": "stdout",
          "text": [
            "<re.Match object; span=(0, 12), match='comienzoyfin'>\n",
            "<re.Match object; span=(0, 12), match='comienzo-fin'>\n",
            "None\n"
          ]
        }
      ]
    },
    {
      "cell_type": "markdown",
      "source": [
        "# Usando expresiones regulares"
      ],
      "metadata": {
        "id": "pYW2e5gV8JbS"
      }
    },
    {
      "cell_type": "code",
      "source": [
        "texto = \"\"\"\n",
        "El departamento vale u$s 100000 pero lo venden a u$s 80.000.\n",
        "El departamento vale u$ 100000 pero lo venden a u$d 80.000.\n",
        "El departamento vale 100000 dólares.\n",
        "\"\"\"\n",
        "#patron = \"(u\\$[s|d]? [0-9]+\\.?[0-9]+\"\n",
        "patron = \"[0-9]+\\.?[0-9]+ dólares\"\n",
        "\n",
        "print(re.match(patron, texto)) # coincide sólo el principio\n",
        "print(re.search(patron, texto)) # busca la primera coincidencia en el texto \n",
        "print(re.findall(patron, texto)) # busca todas las coincidencias\n"
      ],
      "metadata": {
        "colab": {
          "base_uri": "https://localhost:8080/"
        },
        "id": "4fpZWar48M7q",
        "outputId": "af2d5284-4ec4-44aa-ba2f-1242885d4e39"
      },
      "execution_count": null,
      "outputs": [
        {
          "output_type": "stream",
          "name": "stdout",
          "text": [
            "None\n",
            "<re.Match object; span=(22, 32), match='u$s 100000'>\n",
            "[('u$s 100000', ''), ('u$s 80.000', ''), ('u$ 100000', ''), ('u$d 80.000', ''), ('100000 dólares', 'dólares')]\n"
          ]
        }
      ]
    },
    {
      "cell_type": "code",
      "source": [
        "texto = \"El departamento vale u$s 100000 pero lo venden a u$s 80.000.\"\n",
        "patron = \"u\\$s ([0-9]+\\.?[0-9]+)\"\n",
        "\n",
        "print(re.findall(patron, texto)) # busca todas las coincidencias, devuelve grupos"
      ],
      "metadata": {
        "colab": {
          "base_uri": "https://localhost:8080/"
        },
        "id": "xERp639uNM47",
        "outputId": "511d05a2-8416-4a0c-95d7-290ec75d7a00"
      },
      "execution_count": null,
      "outputs": [
        {
          "output_type": "stream",
          "name": "stdout",
          "text": [
            "['100000', '80.000']\n"
          ]
        }
      ]
    },
    {
      "cell_type": "code",
      "source": [
        "texto = \"El departamento vale u$s 100000 pero lo venden a u$s 80.000.\"\n",
        "patron = \"u\\$s ([0-9]+\\.?[0-9]+)\"\n",
        "\n",
        "m = re.search(patron, texto)\n",
        "print(m)\n",
        "print(\"group:\", m.group())\n",
        "print(\"span:\", m.span(), m.start(), m.end())\n"
      ],
      "metadata": {
        "colab": {
          "base_uri": "https://localhost:8080/"
        },
        "id": "XJB893j6Nv5y",
        "outputId": "de8c8738-8e4d-467b-fe89-64ffea2ff133"
      },
      "execution_count": null,
      "outputs": [
        {
          "output_type": "stream",
          "name": "stdout",
          "text": [
            "<re.Match object; span=(21, 31), match='u$s 100000'>\n",
            "group: u$s 100000\n",
            "span: (21, 31) 21 31\n"
          ]
        }
      ]
    },
    {
      "cell_type": "markdown",
      "source": [
        "# Expresiones regulares en pandas"
      ],
      "metadata": {
        "id": "Y_m_oDhyO6q3"
      }
    },
    {
      "cell_type": "code",
      "source": [
        "import pandas as pd"
      ],
      "metadata": {
        "id": "R5v5Wi1ZO-x9"
      },
      "execution_count": 7,
      "outputs": []
    },
    {
      "cell_type": "code",
      "source": [
        "df = pd.DataFrame({\n",
        "    \"titulo\": [\"El departamento tiene yacuzzi!\", \"Cuenta con yacuzi o jacuzi.\", \"Impresionante yacusi en la terraza.\", \"Disfrute del jacuzi en el balcón.\", \"El departamento tiene jacuzzi/yacusi.\", \"Jacusi en el SUM.\"]\n",
        "\n",
        "})\n",
        "df"
      ],
      "metadata": {
        "colab": {
          "base_uri": "https://localhost:8080/",
          "height": 237
        },
        "id": "KbWrFFCoO_-S",
        "outputId": "d26e37d9-f27b-4237-d75a-bc1b2b819310"
      },
      "execution_count": 27,
      "outputs": [
        {
          "output_type": "execute_result",
          "data": {
            "text/plain": [
              "                                  titulo\n",
              "0         El departamento tiene yacuzzi!\n",
              "1            Cuenta con yacuzi o jacuzi.\n",
              "2    Impresionante yacusi en la terraza.\n",
              "3      Disfrute del jacuzi en el balcón.\n",
              "4  El departamento tiene jacuzzi/yacusi.\n",
              "5                      Jacusi en el SUM."
            ],
            "text/html": [
              "\n",
              "  <div id=\"df-491bec1a-45c7-4f6e-82f3-8be392278cdd\">\n",
              "    <div class=\"colab-df-container\">\n",
              "      <div>\n",
              "<style scoped>\n",
              "    .dataframe tbody tr th:only-of-type {\n",
              "        vertical-align: middle;\n",
              "    }\n",
              "\n",
              "    .dataframe tbody tr th {\n",
              "        vertical-align: top;\n",
              "    }\n",
              "\n",
              "    .dataframe thead th {\n",
              "        text-align: right;\n",
              "    }\n",
              "</style>\n",
              "<table border=\"1\" class=\"dataframe\">\n",
              "  <thead>\n",
              "    <tr style=\"text-align: right;\">\n",
              "      <th></th>\n",
              "      <th>titulo</th>\n",
              "    </tr>\n",
              "  </thead>\n",
              "  <tbody>\n",
              "    <tr>\n",
              "      <th>0</th>\n",
              "      <td>El departamento tiene yacuzzi!</td>\n",
              "    </tr>\n",
              "    <tr>\n",
              "      <th>1</th>\n",
              "      <td>Cuenta con yacuzi o jacuzi.</td>\n",
              "    </tr>\n",
              "    <tr>\n",
              "      <th>2</th>\n",
              "      <td>Impresionante yacusi en la terraza.</td>\n",
              "    </tr>\n",
              "    <tr>\n",
              "      <th>3</th>\n",
              "      <td>Disfrute del jacuzi en el balcón.</td>\n",
              "    </tr>\n",
              "    <tr>\n",
              "      <th>4</th>\n",
              "      <td>El departamento tiene jacuzzi/yacusi.</td>\n",
              "    </tr>\n",
              "    <tr>\n",
              "      <th>5</th>\n",
              "      <td>Jacusi en el SUM.</td>\n",
              "    </tr>\n",
              "  </tbody>\n",
              "</table>\n",
              "</div>\n",
              "      <button class=\"colab-df-convert\" onclick=\"convertToInteractive('df-491bec1a-45c7-4f6e-82f3-8be392278cdd')\"\n",
              "              title=\"Convert this dataframe to an interactive table.\"\n",
              "              style=\"display:none;\">\n",
              "        \n",
              "  <svg xmlns=\"http://www.w3.org/2000/svg\" height=\"24px\"viewBox=\"0 0 24 24\"\n",
              "       width=\"24px\">\n",
              "    <path d=\"M0 0h24v24H0V0z\" fill=\"none\"/>\n",
              "    <path d=\"M18.56 5.44l.94 2.06.94-2.06 2.06-.94-2.06-.94-.94-2.06-.94 2.06-2.06.94zm-11 1L8.5 8.5l.94-2.06 2.06-.94-2.06-.94L8.5 2.5l-.94 2.06-2.06.94zm10 10l.94 2.06.94-2.06 2.06-.94-2.06-.94-.94-2.06-.94 2.06-2.06.94z\"/><path d=\"M17.41 7.96l-1.37-1.37c-.4-.4-.92-.59-1.43-.59-.52 0-1.04.2-1.43.59L10.3 9.45l-7.72 7.72c-.78.78-.78 2.05 0 2.83L4 21.41c.39.39.9.59 1.41.59.51 0 1.02-.2 1.41-.59l7.78-7.78 2.81-2.81c.8-.78.8-2.07 0-2.86zM5.41 20L4 18.59l7.72-7.72 1.47 1.35L5.41 20z\"/>\n",
              "  </svg>\n",
              "      </button>\n",
              "      \n",
              "  <style>\n",
              "    .colab-df-container {\n",
              "      display:flex;\n",
              "      flex-wrap:wrap;\n",
              "      gap: 12px;\n",
              "    }\n",
              "\n",
              "    .colab-df-convert {\n",
              "      background-color: #E8F0FE;\n",
              "      border: none;\n",
              "      border-radius: 50%;\n",
              "      cursor: pointer;\n",
              "      display: none;\n",
              "      fill: #1967D2;\n",
              "      height: 32px;\n",
              "      padding: 0 0 0 0;\n",
              "      width: 32px;\n",
              "    }\n",
              "\n",
              "    .colab-df-convert:hover {\n",
              "      background-color: #E2EBFA;\n",
              "      box-shadow: 0px 1px 2px rgba(60, 64, 67, 0.3), 0px 1px 3px 1px rgba(60, 64, 67, 0.15);\n",
              "      fill: #174EA6;\n",
              "    }\n",
              "\n",
              "    [theme=dark] .colab-df-convert {\n",
              "      background-color: #3B4455;\n",
              "      fill: #D2E3FC;\n",
              "    }\n",
              "\n",
              "    [theme=dark] .colab-df-convert:hover {\n",
              "      background-color: #434B5C;\n",
              "      box-shadow: 0px 1px 3px 1px rgba(0, 0, 0, 0.15);\n",
              "      filter: drop-shadow(0px 1px 2px rgba(0, 0, 0, 0.3));\n",
              "      fill: #FFFFFF;\n",
              "    }\n",
              "  </style>\n",
              "\n",
              "      <script>\n",
              "        const buttonEl =\n",
              "          document.querySelector('#df-491bec1a-45c7-4f6e-82f3-8be392278cdd button.colab-df-convert');\n",
              "        buttonEl.style.display =\n",
              "          google.colab.kernel.accessAllowed ? 'block' : 'none';\n",
              "\n",
              "        async function convertToInteractive(key) {\n",
              "          const element = document.querySelector('#df-491bec1a-45c7-4f6e-82f3-8be392278cdd');\n",
              "          const dataTable =\n",
              "            await google.colab.kernel.invokeFunction('convertToInteractive',\n",
              "                                                     [key], {});\n",
              "          if (!dataTable) return;\n",
              "\n",
              "          const docLinkHtml = 'Like what you see? Visit the ' +\n",
              "            '<a target=\"_blank\" href=https://colab.research.google.com/notebooks/data_table.ipynb>data table notebook</a>'\n",
              "            + ' to learn more about interactive tables.';\n",
              "          element.innerHTML = '';\n",
              "          dataTable['output_type'] = 'display_data';\n",
              "          await google.colab.output.renderOutput(dataTable, element);\n",
              "          const docLink = document.createElement('div');\n",
              "          docLink.innerHTML = docLinkHtml;\n",
              "          element.appendChild(docLink);\n",
              "        }\n",
              "      </script>\n",
              "    </div>\n",
              "  </div>\n",
              "  "
            ]
          },
          "metadata": {},
          "execution_count": 27
        }
      ]
    },
    {
      "cell_type": "code",
      "source": [
        "df.titulo.str.contains(\"[JjYy]acu[zs]{1,2}i\")"
      ],
      "metadata": {
        "colab": {
          "base_uri": "https://localhost:8080/"
        },
        "id": "aJLJMlM9PhcZ",
        "outputId": "9ec2c1e0-65b3-4e1c-926d-e2ad9804fe25"
      },
      "execution_count": 28,
      "outputs": [
        {
          "output_type": "execute_result",
          "data": {
            "text/plain": [
              "0    True\n",
              "1    True\n",
              "2    True\n",
              "3    True\n",
              "4    True\n",
              "5    True\n",
              "Name: titulo, dtype: bool"
            ]
          },
          "metadata": {},
          "execution_count": 28
        }
      ]
    },
    {
      "cell_type": "code",
      "source": [
        "df.titulo.str.extract(\"([JjYy]acu[zs]{1,2}i)\")"
      ],
      "metadata": {
        "colab": {
          "base_uri": "https://localhost:8080/",
          "height": 237
        },
        "id": "SoyGJ-bUQWSq",
        "outputId": "0a3a5146-e4c4-4a0e-d70c-16e85b5696c6"
      },
      "execution_count": null,
      "outputs": [
        {
          "output_type": "execute_result",
          "data": {
            "text/plain": [
              "         0\n",
              "0  yacuzzi\n",
              "1   yacuzi\n",
              "2   yacusi\n",
              "3   jacuzi\n",
              "4  jacuzzi\n",
              "5   Jacusi"
            ],
            "text/html": [
              "\n",
              "  <div id=\"df-963391b7-b94e-435a-a4bf-d23c4471699e\">\n",
              "    <div class=\"colab-df-container\">\n",
              "      <div>\n",
              "<style scoped>\n",
              "    .dataframe tbody tr th:only-of-type {\n",
              "        vertical-align: middle;\n",
              "    }\n",
              "\n",
              "    .dataframe tbody tr th {\n",
              "        vertical-align: top;\n",
              "    }\n",
              "\n",
              "    .dataframe thead th {\n",
              "        text-align: right;\n",
              "    }\n",
              "</style>\n",
              "<table border=\"1\" class=\"dataframe\">\n",
              "  <thead>\n",
              "    <tr style=\"text-align: right;\">\n",
              "      <th></th>\n",
              "      <th>0</th>\n",
              "    </tr>\n",
              "  </thead>\n",
              "  <tbody>\n",
              "    <tr>\n",
              "      <th>0</th>\n",
              "      <td>yacuzzi</td>\n",
              "    </tr>\n",
              "    <tr>\n",
              "      <th>1</th>\n",
              "      <td>yacuzi</td>\n",
              "    </tr>\n",
              "    <tr>\n",
              "      <th>2</th>\n",
              "      <td>yacusi</td>\n",
              "    </tr>\n",
              "    <tr>\n",
              "      <th>3</th>\n",
              "      <td>jacuzi</td>\n",
              "    </tr>\n",
              "    <tr>\n",
              "      <th>4</th>\n",
              "      <td>jacuzzi</td>\n",
              "    </tr>\n",
              "    <tr>\n",
              "      <th>5</th>\n",
              "      <td>Jacusi</td>\n",
              "    </tr>\n",
              "  </tbody>\n",
              "</table>\n",
              "</div>\n",
              "      <button class=\"colab-df-convert\" onclick=\"convertToInteractive('df-963391b7-b94e-435a-a4bf-d23c4471699e')\"\n",
              "              title=\"Convert this dataframe to an interactive table.\"\n",
              "              style=\"display:none;\">\n",
              "        \n",
              "  <svg xmlns=\"http://www.w3.org/2000/svg\" height=\"24px\"viewBox=\"0 0 24 24\"\n",
              "       width=\"24px\">\n",
              "    <path d=\"M0 0h24v24H0V0z\" fill=\"none\"/>\n",
              "    <path d=\"M18.56 5.44l.94 2.06.94-2.06 2.06-.94-2.06-.94-.94-2.06-.94 2.06-2.06.94zm-11 1L8.5 8.5l.94-2.06 2.06-.94-2.06-.94L8.5 2.5l-.94 2.06-2.06.94zm10 10l.94 2.06.94-2.06 2.06-.94-2.06-.94-.94-2.06-.94 2.06-2.06.94z\"/><path d=\"M17.41 7.96l-1.37-1.37c-.4-.4-.92-.59-1.43-.59-.52 0-1.04.2-1.43.59L10.3 9.45l-7.72 7.72c-.78.78-.78 2.05 0 2.83L4 21.41c.39.39.9.59 1.41.59.51 0 1.02-.2 1.41-.59l7.78-7.78 2.81-2.81c.8-.78.8-2.07 0-2.86zM5.41 20L4 18.59l7.72-7.72 1.47 1.35L5.41 20z\"/>\n",
              "  </svg>\n",
              "      </button>\n",
              "      \n",
              "  <style>\n",
              "    .colab-df-container {\n",
              "      display:flex;\n",
              "      flex-wrap:wrap;\n",
              "      gap: 12px;\n",
              "    }\n",
              "\n",
              "    .colab-df-convert {\n",
              "      background-color: #E8F0FE;\n",
              "      border: none;\n",
              "      border-radius: 50%;\n",
              "      cursor: pointer;\n",
              "      display: none;\n",
              "      fill: #1967D2;\n",
              "      height: 32px;\n",
              "      padding: 0 0 0 0;\n",
              "      width: 32px;\n",
              "    }\n",
              "\n",
              "    .colab-df-convert:hover {\n",
              "      background-color: #E2EBFA;\n",
              "      box-shadow: 0px 1px 2px rgba(60, 64, 67, 0.3), 0px 1px 3px 1px rgba(60, 64, 67, 0.15);\n",
              "      fill: #174EA6;\n",
              "    }\n",
              "\n",
              "    [theme=dark] .colab-df-convert {\n",
              "      background-color: #3B4455;\n",
              "      fill: #D2E3FC;\n",
              "    }\n",
              "\n",
              "    [theme=dark] .colab-df-convert:hover {\n",
              "      background-color: #434B5C;\n",
              "      box-shadow: 0px 1px 3px 1px rgba(0, 0, 0, 0.15);\n",
              "      filter: drop-shadow(0px 1px 2px rgba(0, 0, 0, 0.3));\n",
              "      fill: #FFFFFF;\n",
              "    }\n",
              "  </style>\n",
              "\n",
              "      <script>\n",
              "        const buttonEl =\n",
              "          document.querySelector('#df-963391b7-b94e-435a-a4bf-d23c4471699e button.colab-df-convert');\n",
              "        buttonEl.style.display =\n",
              "          google.colab.kernel.accessAllowed ? 'block' : 'none';\n",
              "\n",
              "        async function convertToInteractive(key) {\n",
              "          const element = document.querySelector('#df-963391b7-b94e-435a-a4bf-d23c4471699e');\n",
              "          const dataTable =\n",
              "            await google.colab.kernel.invokeFunction('convertToInteractive',\n",
              "                                                     [key], {});\n",
              "          if (!dataTable) return;\n",
              "\n",
              "          const docLinkHtml = 'Like what you see? Visit the ' +\n",
              "            '<a target=\"_blank\" href=https://colab.research.google.com/notebooks/data_table.ipynb>data table notebook</a>'\n",
              "            + ' to learn more about interactive tables.';\n",
              "          element.innerHTML = '';\n",
              "          dataTable['output_type'] = 'display_data';\n",
              "          await google.colab.output.renderOutput(dataTable, element);\n",
              "          const docLink = document.createElement('div');\n",
              "          docLink.innerHTML = docLinkHtml;\n",
              "          element.appendChild(docLink);\n",
              "        }\n",
              "      </script>\n",
              "    </div>\n",
              "  </div>\n",
              "  "
            ]
          },
          "metadata": {},
          "execution_count": 188
        }
      ]
    },
    {
      "cell_type": "code",
      "source": [
        "df.titulo.str.count(\"([JjYy]acu[zs]{1,2}i)\")"
      ],
      "metadata": {
        "colab": {
          "base_uri": "https://localhost:8080/"
        },
        "id": "glcj8Y2UQlpd",
        "outputId": "06487def-66a8-4f98-9d44-be09c8ba91db"
      },
      "execution_count": null,
      "outputs": [
        {
          "output_type": "execute_result",
          "data": {
            "text/plain": [
              "0    1\n",
              "1    2\n",
              "2    1\n",
              "3    1\n",
              "4    2\n",
              "5    1\n",
              "Name: titulo, dtype: int64"
            ]
          },
          "metadata": {},
          "execution_count": 189
        }
      ]
    },
    {
      "cell_type": "code",
      "source": [
        "df.titulo.str.match(\"([JjYy]acu[zs]{1,2}i)\")"
      ],
      "metadata": {
        "colab": {
          "base_uri": "https://localhost:8080/"
        },
        "id": "2O9JsA6OQ4zy",
        "outputId": "59704bb3-8511-4ee0-afd7-0544aa9bc820"
      },
      "execution_count": null,
      "outputs": [
        {
          "output_type": "execute_result",
          "data": {
            "text/plain": [
              "0    False\n",
              "1    False\n",
              "2    False\n",
              "3    False\n",
              "4    False\n",
              "5     True\n",
              "Name: titulo, dtype: bool"
            ]
          },
          "metadata": {},
          "execution_count": 190
        }
      ]
    },
    {
      "cell_type": "code",
      "source": [
        "df.titulo.str.replace(\"([JjYy]acu[zs]{1,2}i)\", \"jacuzzi\", regex=True)"
      ],
      "metadata": {
        "colab": {
          "base_uri": "https://localhost:8080/"
        },
        "id": "hgtbOTpCQ975",
        "outputId": "22f627f2-e8fc-4ee8-b27b-f7e6add5a856"
      },
      "execution_count": null,
      "outputs": [
        {
          "output_type": "execute_result",
          "data": {
            "text/plain": [
              "0            El departamento tiene jacuzzi!\n",
              "1             Cuenta con jacuzzi o jacuzzi.\n",
              "2      Impresionante jacuzzi en la terraza.\n",
              "3        Disfrute del jacuzzi en el balcón.\n",
              "4    El departamento tiene jacuzzi/jacuzzi.\n",
              "5                        jacuzzi en el SUM.\n",
              "Name: titulo, dtype: object"
            ]
          },
          "metadata": {},
          "execution_count": 191
        }
      ]
    },
    {
      "cell_type": "code",
      "source": [
        "df.titulo.str.findall(\"([JjYy]acu[zs]{1,2}i)\")"
      ],
      "metadata": {
        "colab": {
          "base_uri": "https://localhost:8080/"
        },
        "id": "DRTI7ZhIRMj-",
        "outputId": "f1370fce-c123-4c52-ee95-6cb7c674d9f3"
      },
      "execution_count": null,
      "outputs": [
        {
          "output_type": "execute_result",
          "data": {
            "text/plain": [
              "0            [yacuzzi]\n",
              "1     [yacuzi, jacuzi]\n",
              "2             [yacusi]\n",
              "3             [jacuzi]\n",
              "4    [jacuzzi, yacusi]\n",
              "5             [Jacusi]\n",
              "Name: titulo, dtype: object"
            ]
          },
          "metadata": {},
          "execution_count": 192
        }
      ]
    },
    {
      "cell_type": "code",
      "source": [
        "df.titulo.str.split(\"([JjYy]acu[zs]{1,2}i)\")"
      ],
      "metadata": {
        "colab": {
          "base_uri": "https://localhost:8080/"
        },
        "id": "6SUHYfFZRd3B",
        "outputId": "1b48279a-c3f4-413d-a5d3-b1648327d879"
      },
      "execution_count": null,
      "outputs": [
        {
          "output_type": "execute_result",
          "data": {
            "text/plain": [
              "0               [El departamento tiene , yacuzzi, !]\n",
              "1              [Cuenta con , yacuzi,  o , jacuzi, .]\n",
              "2          [Impresionante , yacusi,  en la terraza.]\n",
              "3            [Disfrute del , jacuzi,  en el balcón.]\n",
              "4    [El departamento tiene , jacuzzi, /, yacusi, .]\n",
              "5                            [, Jacusi,  en el SUM.]\n",
              "Name: titulo, dtype: object"
            ]
          },
          "metadata": {},
          "execution_count": 193
        }
      ]
    }
  ]
}