{
  "nbformat": 4,
  "nbformat_minor": 0,
  "metadata": {
    "colab": {
      "name": "Clase 01 Modelo.ipynb",
      "provenance": [],
      "collapsed_sections": [],
      "include_colab_link": true
    },
    "kernelspec": {
      "name": "python3",
      "display_name": "Python 3"
    },
    "language_info": {
      "name": "python"
    }
  },
  "cells": [
    {
      "cell_type": "markdown",
      "metadata": {
        "id": "view-in-github",
        "colab_type": "text"
      },
      "source": [
        "<a href=\"https://colab.research.google.com/github/gu1lleom/Colab-Clases/blob/main/DM_Clase_01_Modelo.ipynb\" target=\"_parent\"><img src=\"https://colab.research.google.com/assets/colab-badge.svg\" alt=\"Open In Colab\"/></a>"
      ]
    },
    {
      "cell_type": "code",
      "execution_count": null,
      "metadata": {
        "id": "jw8ogMDOpvKP"
      },
      "outputs": [],
      "source": [
        "import pandas as pd\n",
        "\n",
        "import sklearn as sk\n",
        "from sklearn import model_selection\n",
        "from sklearn import ensemble\n",
        "from sklearn import metrics"
      ]
    },
    {
      "cell_type": "markdown",
      "source": [
        "# Lectura de datos"
      ],
      "metadata": {
        "id": "20D-m6GPyefp"
      }
    },
    {
      "cell_type": "code",
      "source": [
        "df_entrenamiento = pd.read_excel('/content/udemy_entrenamiento.xlsx', index_col=\"id\", parse_dates=['created_date'])\n",
        "df_entrenamiento['bestseller'] = df_entrenamiento['bestseller'].map({'yes': 'si', 'no': 'no'})\n",
        "df_entrenamiento.head()"
      ],
      "metadata": {
        "id": "CtV0wOGsqJLC"
      },
      "execution_count": null,
      "outputs": []
    },
    {
      "cell_type": "code",
      "source": [
        "df_prueba = pd.read_excel('/content/udemy_prueba.xlsx', index_col=\"id\")\n",
        "df_prueba.head()"
      ],
      "metadata": {
        "id": "mFsXMBPUqTQl",
        "colab": {
          "base_uri": "https://localhost:8080/",
          "height": 665
        },
        "outputId": "73267436-a394-4aa6-c9d2-d997b08e93a0"
      },
      "execution_count": null,
      "outputs": [
        {
          "output_type": "execute_result",
          "data": {
            "text/plain": [
              "                                                   title  \\\n",
              "id                                                         \n",
              "11088  Desarrolla Juegos 2D en Unity hasta publicarlo...   \n",
              "11089  React Native: Aplicaciones nativas para IOS y ...   \n",
              "11090  Introducción a Internet de las cosas con Micro...   \n",
              "11091          Identifica y construye a tu cliente ideal   \n",
              "11092  Análisis de Procesos para líderes y jefes de p...   \n",
              "\n",
              "                                                headline  \\\n",
              "id                                                         \n",
              "11088  Juegos 2d todo lo necesario para crear un jueg...   \n",
              "11089  TypeScript, React Native CLI, Google y Apple m...   \n",
              "11090  Aprende como ingresar al mundo del Internet de...   \n",
              "11091  Construir las bases sólidas del perfil de clie...   \n",
              "11092  (Procesos, Decisiones y Costos con Teoría de R...   \n",
              "\n",
              "       is_practice_test_course  bestseller     captions    rating  \\\n",
              "id                                                                  \n",
              "11088                    False         NaN        es_ES  5.000000   \n",
              "11089                    False         NaN        es_LA  4.878622   \n",
              "11090                    False         NaN        es_ES  4.451706   \n",
              "11091                    False         NaN        es_ES  5.000000   \n",
              "11092                    False         NaN  es_MX,en_US  4.672697   \n",
              "\n",
              "       num_published_lectures  num_published_practice_tests locale  \\\n",
              "id                                                                   \n",
              "11088                      21                             0  es_ES   \n",
              "11089                     380                             0  es_LA   \n",
              "11090                      32                             0  es_ES   \n",
              "11091                      31                             0  es_ES   \n",
              "11092                      15                             0  es_MX   \n",
              "\n",
              "      created_date instructional_level_simple published_date last_update_date  \\\n",
              "id                                                                              \n",
              "11088   2021-03-01               Principiante     2021-03-21       2021-03-04   \n",
              "11089   2021-03-01          Todos los niveles     2021-04-04       2021-06-14   \n",
              "11090   2021-03-01               Principiante     2021-04-06       2021-05-27   \n",
              "11091   2021-03-01               Principiante     2021-04-09              NaN   \n",
              "11092   2021-03-01               Principiante     2021-04-14       2021-05-04   \n",
              "\n",
              "      content_info_short instructors                category  \\\n",
              "id                                                             \n",
              "11088            4 horas   116249520  Informática y software   \n",
              "11089         43,5 horas    11767934              Desarrollo   \n",
              "11090          1,5 horas   136827143  Informática y software   \n",
              "11091            4 horas   135011368                Negocios   \n",
              "11092             1 hora    34396906                Negocios   \n",
              "\n",
              "                             subcategory  \\\n",
              "id                                         \n",
              "11088  Desarrollo de juegos para móviles   \n",
              "11089                 API de Google Maps   \n",
              "11090                        MicroPython   \n",
              "11091                           Personas   \n",
              "11092             Gestión de operaciones   \n",
              "\n",
              "                                              objectives list_price  \\\n",
              "id                                                                    \n",
              "11088  Aprenderás todos los conceptos básicos  para u...     $19.99   \n",
              "11089  React Native.Crear aplicaciones móviles nativa...     $89.99   \n",
              "11090  Controlar módulos ESP32 usando el lenguaje de ...     $34.99   \n",
              "11091  ¿Alguna vez te has preguntado cómo empresas co...     $59.99   \n",
              "11092  Analizar a fondo Procesos y Operaciones.Defini...     $24.99   \n",
              "\n",
              "      discount_price  \n",
              "id                    \n",
              "11088            $12  \n",
              "11089            $12  \n",
              "11090            $12  \n",
              "11091            $12  \n",
              "11092            NaN  "
            ],
            "text/html": [
              "\n",
              "  <div id=\"df-8c2b8db9-30bd-48e6-be85-ff2c825128c2\">\n",
              "    <div class=\"colab-df-container\">\n",
              "      <div>\n",
              "<style scoped>\n",
              "    .dataframe tbody tr th:only-of-type {\n",
              "        vertical-align: middle;\n",
              "    }\n",
              "\n",
              "    .dataframe tbody tr th {\n",
              "        vertical-align: top;\n",
              "    }\n",
              "\n",
              "    .dataframe thead th {\n",
              "        text-align: right;\n",
              "    }\n",
              "</style>\n",
              "<table border=\"1\" class=\"dataframe\">\n",
              "  <thead>\n",
              "    <tr style=\"text-align: right;\">\n",
              "      <th></th>\n",
              "      <th>title</th>\n",
              "      <th>headline</th>\n",
              "      <th>is_practice_test_course</th>\n",
              "      <th>bestseller</th>\n",
              "      <th>captions</th>\n",
              "      <th>rating</th>\n",
              "      <th>num_published_lectures</th>\n",
              "      <th>num_published_practice_tests</th>\n",
              "      <th>locale</th>\n",
              "      <th>created_date</th>\n",
              "      <th>instructional_level_simple</th>\n",
              "      <th>published_date</th>\n",
              "      <th>last_update_date</th>\n",
              "      <th>content_info_short</th>\n",
              "      <th>instructors</th>\n",
              "      <th>category</th>\n",
              "      <th>subcategory</th>\n",
              "      <th>objectives</th>\n",
              "      <th>list_price</th>\n",
              "      <th>discount_price</th>\n",
              "    </tr>\n",
              "    <tr>\n",
              "      <th>id</th>\n",
              "      <th></th>\n",
              "      <th></th>\n",
              "      <th></th>\n",
              "      <th></th>\n",
              "      <th></th>\n",
              "      <th></th>\n",
              "      <th></th>\n",
              "      <th></th>\n",
              "      <th></th>\n",
              "      <th></th>\n",
              "      <th></th>\n",
              "      <th></th>\n",
              "      <th></th>\n",
              "      <th></th>\n",
              "      <th></th>\n",
              "      <th></th>\n",
              "      <th></th>\n",
              "      <th></th>\n",
              "      <th></th>\n",
              "      <th></th>\n",
              "    </tr>\n",
              "  </thead>\n",
              "  <tbody>\n",
              "    <tr>\n",
              "      <th>11088</th>\n",
              "      <td>Desarrolla Juegos 2D en Unity hasta publicarlo...</td>\n",
              "      <td>Juegos 2d todo lo necesario para crear un jueg...</td>\n",
              "      <td>False</td>\n",
              "      <td>NaN</td>\n",
              "      <td>es_ES</td>\n",
              "      <td>5.000000</td>\n",
              "      <td>21</td>\n",
              "      <td>0</td>\n",
              "      <td>es_ES</td>\n",
              "      <td>2021-03-01</td>\n",
              "      <td>Principiante</td>\n",
              "      <td>2021-03-21</td>\n",
              "      <td>2021-03-04</td>\n",
              "      <td>4 horas</td>\n",
              "      <td>116249520</td>\n",
              "      <td>Informática y software</td>\n",
              "      <td>Desarrollo de juegos para móviles</td>\n",
              "      <td>Aprenderás todos los conceptos básicos  para u...</td>\n",
              "      <td>$19.99</td>\n",
              "      <td>$12</td>\n",
              "    </tr>\n",
              "    <tr>\n",
              "      <th>11089</th>\n",
              "      <td>React Native: Aplicaciones nativas para IOS y ...</td>\n",
              "      <td>TypeScript, React Native CLI, Google y Apple m...</td>\n",
              "      <td>False</td>\n",
              "      <td>NaN</td>\n",
              "      <td>es_LA</td>\n",
              "      <td>4.878622</td>\n",
              "      <td>380</td>\n",
              "      <td>0</td>\n",
              "      <td>es_LA</td>\n",
              "      <td>2021-03-01</td>\n",
              "      <td>Todos los niveles</td>\n",
              "      <td>2021-04-04</td>\n",
              "      <td>2021-06-14</td>\n",
              "      <td>43,5 horas</td>\n",
              "      <td>11767934</td>\n",
              "      <td>Desarrollo</td>\n",
              "      <td>API de Google Maps</td>\n",
              "      <td>React Native.Crear aplicaciones móviles nativa...</td>\n",
              "      <td>$89.99</td>\n",
              "      <td>$12</td>\n",
              "    </tr>\n",
              "    <tr>\n",
              "      <th>11090</th>\n",
              "      <td>Introducción a Internet de las cosas con Micro...</td>\n",
              "      <td>Aprende como ingresar al mundo del Internet de...</td>\n",
              "      <td>False</td>\n",
              "      <td>NaN</td>\n",
              "      <td>es_ES</td>\n",
              "      <td>4.451706</td>\n",
              "      <td>32</td>\n",
              "      <td>0</td>\n",
              "      <td>es_ES</td>\n",
              "      <td>2021-03-01</td>\n",
              "      <td>Principiante</td>\n",
              "      <td>2021-04-06</td>\n",
              "      <td>2021-05-27</td>\n",
              "      <td>1,5 horas</td>\n",
              "      <td>136827143</td>\n",
              "      <td>Informática y software</td>\n",
              "      <td>MicroPython</td>\n",
              "      <td>Controlar módulos ESP32 usando el lenguaje de ...</td>\n",
              "      <td>$34.99</td>\n",
              "      <td>$12</td>\n",
              "    </tr>\n",
              "    <tr>\n",
              "      <th>11091</th>\n",
              "      <td>Identifica y construye a tu cliente ideal</td>\n",
              "      <td>Construir las bases sólidas del perfil de clie...</td>\n",
              "      <td>False</td>\n",
              "      <td>NaN</td>\n",
              "      <td>es_ES</td>\n",
              "      <td>5.000000</td>\n",
              "      <td>31</td>\n",
              "      <td>0</td>\n",
              "      <td>es_ES</td>\n",
              "      <td>2021-03-01</td>\n",
              "      <td>Principiante</td>\n",
              "      <td>2021-04-09</td>\n",
              "      <td>NaN</td>\n",
              "      <td>4 horas</td>\n",
              "      <td>135011368</td>\n",
              "      <td>Negocios</td>\n",
              "      <td>Personas</td>\n",
              "      <td>¿Alguna vez te has preguntado cómo empresas co...</td>\n",
              "      <td>$59.99</td>\n",
              "      <td>$12</td>\n",
              "    </tr>\n",
              "    <tr>\n",
              "      <th>11092</th>\n",
              "      <td>Análisis de Procesos para líderes y jefes de p...</td>\n",
              "      <td>(Procesos, Decisiones y Costos con Teoría de R...</td>\n",
              "      <td>False</td>\n",
              "      <td>NaN</td>\n",
              "      <td>es_MX,en_US</td>\n",
              "      <td>4.672697</td>\n",
              "      <td>15</td>\n",
              "      <td>0</td>\n",
              "      <td>es_MX</td>\n",
              "      <td>2021-03-01</td>\n",
              "      <td>Principiante</td>\n",
              "      <td>2021-04-14</td>\n",
              "      <td>2021-05-04</td>\n",
              "      <td>1 hora</td>\n",
              "      <td>34396906</td>\n",
              "      <td>Negocios</td>\n",
              "      <td>Gestión de operaciones</td>\n",
              "      <td>Analizar a fondo Procesos y Operaciones.Defini...</td>\n",
              "      <td>$24.99</td>\n",
              "      <td>NaN</td>\n",
              "    </tr>\n",
              "  </tbody>\n",
              "</table>\n",
              "</div>\n",
              "      <button class=\"colab-df-convert\" onclick=\"convertToInteractive('df-8c2b8db9-30bd-48e6-be85-ff2c825128c2')\"\n",
              "              title=\"Convert this dataframe to an interactive table.\"\n",
              "              style=\"display:none;\">\n",
              "        \n",
              "  <svg xmlns=\"http://www.w3.org/2000/svg\" height=\"24px\"viewBox=\"0 0 24 24\"\n",
              "       width=\"24px\">\n",
              "    <path d=\"M0 0h24v24H0V0z\" fill=\"none\"/>\n",
              "    <path d=\"M18.56 5.44l.94 2.06.94-2.06 2.06-.94-2.06-.94-.94-2.06-.94 2.06-2.06.94zm-11 1L8.5 8.5l.94-2.06 2.06-.94-2.06-.94L8.5 2.5l-.94 2.06-2.06.94zm10 10l.94 2.06.94-2.06 2.06-.94-2.06-.94-.94-2.06-.94 2.06-2.06.94z\"/><path d=\"M17.41 7.96l-1.37-1.37c-.4-.4-.92-.59-1.43-.59-.52 0-1.04.2-1.43.59L10.3 9.45l-7.72 7.72c-.78.78-.78 2.05 0 2.83L4 21.41c.39.39.9.59 1.41.59.51 0 1.02-.2 1.41-.59l7.78-7.78 2.81-2.81c.8-.78.8-2.07 0-2.86zM5.41 20L4 18.59l7.72-7.72 1.47 1.35L5.41 20z\"/>\n",
              "  </svg>\n",
              "      </button>\n",
              "      \n",
              "  <style>\n",
              "    .colab-df-container {\n",
              "      display:flex;\n",
              "      flex-wrap:wrap;\n",
              "      gap: 12px;\n",
              "    }\n",
              "\n",
              "    .colab-df-convert {\n",
              "      background-color: #E8F0FE;\n",
              "      border: none;\n",
              "      border-radius: 50%;\n",
              "      cursor: pointer;\n",
              "      display: none;\n",
              "      fill: #1967D2;\n",
              "      height: 32px;\n",
              "      padding: 0 0 0 0;\n",
              "      width: 32px;\n",
              "    }\n",
              "\n",
              "    .colab-df-convert:hover {\n",
              "      background-color: #E2EBFA;\n",
              "      box-shadow: 0px 1px 2px rgba(60, 64, 67, 0.3), 0px 1px 3px 1px rgba(60, 64, 67, 0.15);\n",
              "      fill: #174EA6;\n",
              "    }\n",
              "\n",
              "    [theme=dark] .colab-df-convert {\n",
              "      background-color: #3B4455;\n",
              "      fill: #D2E3FC;\n",
              "    }\n",
              "\n",
              "    [theme=dark] .colab-df-convert:hover {\n",
              "      background-color: #434B5C;\n",
              "      box-shadow: 0px 1px 3px 1px rgba(0, 0, 0, 0.15);\n",
              "      filter: drop-shadow(0px 1px 2px rgba(0, 0, 0, 0.3));\n",
              "      fill: #FFFFFF;\n",
              "    }\n",
              "  </style>\n",
              "\n",
              "      <script>\n",
              "        const buttonEl =\n",
              "          document.querySelector('#df-8c2b8db9-30bd-48e6-be85-ff2c825128c2 button.colab-df-convert');\n",
              "        buttonEl.style.display =\n",
              "          google.colab.kernel.accessAllowed ? 'block' : 'none';\n",
              "\n",
              "        async function convertToInteractive(key) {\n",
              "          const element = document.querySelector('#df-8c2b8db9-30bd-48e6-be85-ff2c825128c2');\n",
              "          const dataTable =\n",
              "            await google.colab.kernel.invokeFunction('convertToInteractive',\n",
              "                                                     [key], {});\n",
              "          if (!dataTable) return;\n",
              "\n",
              "          const docLinkHtml = 'Like what you see? Visit the ' +\n",
              "            '<a target=\"_blank\" href=https://colab.research.google.com/notebooks/data_table.ipynb>data table notebook</a>'\n",
              "            + ' to learn more about interactive tables.';\n",
              "          element.innerHTML = '';\n",
              "          dataTable['output_type'] = 'display_data';\n",
              "          await google.colab.output.renderOutput(dataTable, element);\n",
              "          const docLink = document.createElement('div');\n",
              "          docLink.innerHTML = docLinkHtml;\n",
              "          element.appendChild(docLink);\n",
              "        }\n",
              "      </script>\n",
              "    </div>\n",
              "  </div>\n",
              "  "
            ]
          },
          "metadata": {},
          "execution_count": 4
        }
      ]
    },
    {
      "cell_type": "code",
      "source": [
        "df = pd.concat([df_entrenamiento, df_prueba], axis=0)\n",
        "df.shape"
      ],
      "metadata": {
        "colab": {
          "base_uri": "https://localhost:8080/"
        },
        "id": "HMbZihQ-ESTV",
        "outputId": "b8fe3859-de58-48f2-f397-d0b980a9a507"
      },
      "execution_count": null,
      "outputs": [
        {
          "output_type": "execute_result",
          "data": {
            "text/plain": [
              "(11326, 20)"
            ]
          },
          "metadata": {},
          "execution_count": 12
        }
      ]
    },
    {
      "cell_type": "markdown",
      "source": [
        "# Entendimiento (magia parte 1 -- AID)"
      ],
      "metadata": {
        "id": "byV0dQi-yiEd"
      }
    },
    {
      "cell_type": "code",
      "source": [
        "df['rating'].hist();"
      ],
      "metadata": {
        "colab": {
          "base_uri": "https://localhost:8080/"
        },
        "id": "JxgyNvZMy2W8",
        "outputId": "7253a25b-ffec-42be-e9bf-00f9ae6526bb"
      },
      "execution_count": null,
      "outputs": [
        {
          "output_type": "display_data",
          "data": {
            "text/plain": [
              "<Figure size 432x288 with 1 Axes>"
            ],
            "image/png": "[encoded data removed]"
          },
          "metadata": {
            "needs_background": "light"
          }
        }
      ]
    },
    {
      "cell_type": "code",
      "source": [
        "df['locale'].value_counts()"
      ],
      "metadata": {
        "colab": {
          "base_uri": "https://localhost:8080/"
        },
        "id": "ULDA7WfhjG5G",
        "outputId": "5d6a3d01-cd18-45aa-aef1-5b933423d04c"
      },
      "execution_count": null,
      "outputs": [
        {
          "output_type": "execute_result",
          "data": {
            "text/plain": [
              "es_ES    6725\n",
              "es_LA    2432\n",
              "es_MX    1471\n",
              "es_CO     435\n",
              "es_VE     161\n",
              "es_CL     102\n",
              "Name: locale, dtype: int64"
            ]
          },
          "metadata": {},
          "execution_count": 14
        }
      ]
    },
    {
      "cell_type": "code",
      "source": [
        "df_entrenamiento.corr()"
      ],
      "metadata": {
        "colab": {
          "base_uri": "https://localhost:8080/",
          "height": 175
        },
        "id": "KFJ6E2aykFTx",
        "outputId": "9be4e0d4-100e-4caf-ab80-c1b2419b32b5"
      },
      "execution_count": null,
      "outputs": [
        {
          "output_type": "execute_result",
          "data": {
            "text/plain": [
              "                              is_practice_test_course    rating  \\\n",
              "is_practice_test_course                      1.000000 -0.067705   \n",
              "rating                                      -0.067705  1.000000   \n",
              "num_published_lectures                      -0.101295  0.102981   \n",
              "num_published_practice_tests                 0.820798 -0.042436   \n",
              "\n",
              "                              num_published_lectures  \\\n",
              "is_practice_test_course                    -0.101295   \n",
              "rating                                      0.102981   \n",
              "num_published_lectures                      1.000000   \n",
              "num_published_practice_tests               -0.071914   \n",
              "\n",
              "                              num_published_practice_tests  \n",
              "is_practice_test_course                           0.820798  \n",
              "rating                                           -0.042436  \n",
              "num_published_lectures                           -0.071914  \n",
              "num_published_practice_tests                      1.000000  "
            ],
            "text/html": [
              "\n",
              "  <div id=\"df-8289eebc-05d5-40e2-921b-5d737e0e9fec\">\n",
              "    <div class=\"colab-df-container\">\n",
              "      <div>\n",
              "<style scoped>\n",
              "    .dataframe tbody tr th:only-of-type {\n",
              "        vertical-align: middle;\n",
              "    }\n",
              "\n",
              "    .dataframe tbody tr th {\n",
              "        vertical-align: top;\n",
              "    }\n",
              "\n",
              "    .dataframe thead th {\n",
              "        text-align: right;\n",
              "    }\n",
              "</style>\n",
              "<table border=\"1\" class=\"dataframe\">\n",
              "  <thead>\n",
              "    <tr style=\"text-align: right;\">\n",
              "      <th></th>\n",
              "      <th>is_practice_test_course</th>\n",
              "      <th>rating</th>\n",
              "      <th>num_published_lectures</th>\n",
              "      <th>num_published_practice_tests</th>\n",
              "    </tr>\n",
              "  </thead>\n",
              "  <tbody>\n",
              "    <tr>\n",
              "      <th>is_practice_test_course</th>\n",
              "      <td>1.000000</td>\n",
              "      <td>-0.067705</td>\n",
              "      <td>-0.101295</td>\n",
              "      <td>0.820798</td>\n",
              "    </tr>\n",
              "    <tr>\n",
              "      <th>rating</th>\n",
              "      <td>-0.067705</td>\n",
              "      <td>1.000000</td>\n",
              "      <td>0.102981</td>\n",
              "      <td>-0.042436</td>\n",
              "    </tr>\n",
              "    <tr>\n",
              "      <th>num_published_lectures</th>\n",
              "      <td>-0.101295</td>\n",
              "      <td>0.102981</td>\n",
              "      <td>1.000000</td>\n",
              "      <td>-0.071914</td>\n",
              "    </tr>\n",
              "    <tr>\n",
              "      <th>num_published_practice_tests</th>\n",
              "      <td>0.820798</td>\n",
              "      <td>-0.042436</td>\n",
              "      <td>-0.071914</td>\n",
              "      <td>1.000000</td>\n",
              "    </tr>\n",
              "  </tbody>\n",
              "</table>\n",
              "</div>\n",
              "      <button class=\"colab-df-convert\" onclick=\"convertToInteractive('df-8289eebc-05d5-40e2-921b-5d737e0e9fec')\"\n",
              "              title=\"Convert this dataframe to an interactive table.\"\n",
              "              style=\"display:none;\">\n",
              "        \n",
              "  <svg xmlns=\"http://www.w3.org/2000/svg\" height=\"24px\"viewBox=\"0 0 24 24\"\n",
              "       width=\"24px\">\n",
              "    <path d=\"M0 0h24v24H0V0z\" fill=\"none\"/>\n",
              "    <path d=\"M18.56 5.44l.94 2.06.94-2.06 2.06-.94-2.06-.94-.94-2.06-.94 2.06-2.06.94zm-11 1L8.5 8.5l.94-2.06 2.06-.94-2.06-.94L8.5 2.5l-.94 2.06-2.06.94zm10 10l.94 2.06.94-2.06 2.06-.94-2.06-.94-.94-2.06-.94 2.06-2.06.94z\"/><path d=\"M17.41 7.96l-1.37-1.37c-.4-.4-.92-.59-1.43-.59-.52 0-1.04.2-1.43.59L10.3 9.45l-7.72 7.72c-.78.78-.78 2.05 0 2.83L4 21.41c.39.39.9.59 1.41.59.51 0 1.02-.2 1.41-.59l7.78-7.78 2.81-2.81c.8-.78.8-2.07 0-2.86zM5.41 20L4 18.59l7.72-7.72 1.47 1.35L5.41 20z\"/>\n",
              "  </svg>\n",
              "      </button>\n",
              "      \n",
              "  <style>\n",
              "    .colab-df-container {\n",
              "      display:flex;\n",
              "      flex-wrap:wrap;\n",
              "      gap: 12px;\n",
              "    }\n",
              "\n",
              "    .colab-df-convert {\n",
              "      background-color: #E8F0FE;\n",
              "      border: none;\n",
              "      border-radius: 50%;\n",
              "      cursor: pointer;\n",
              "      display: none;\n",
              "      fill: #1967D2;\n",
              "      height: 32px;\n",
              "      padding: 0 0 0 0;\n",
              "      width: 32px;\n",
              "    }\n",
              "\n",
              "    .colab-df-convert:hover {\n",
              "      background-color: #E2EBFA;\n",
              "      box-shadow: 0px 1px 2px rgba(60, 64, 67, 0.3), 0px 1px 3px 1px rgba(60, 64, 67, 0.15);\n",
              "      fill: #174EA6;\n",
              "    }\n",
              "\n",
              "    [theme=dark] .colab-df-convert {\n",
              "      background-color: #3B4455;\n",
              "      fill: #D2E3FC;\n",
              "    }\n",
              "\n",
              "    [theme=dark] .colab-df-convert:hover {\n",
              "      background-color: #434B5C;\n",
              "      box-shadow: 0px 1px 3px 1px rgba(0, 0, 0, 0.15);\n",
              "      filter: drop-shadow(0px 1px 2px rgba(0, 0, 0, 0.3));\n",
              "      fill: #FFFFFF;\n",
              "    }\n",
              "  </style>\n",
              "\n",
              "      <script>\n",
              "        const buttonEl =\n",
              "          document.querySelector('#df-8289eebc-05d5-40e2-921b-5d737e0e9fec button.colab-df-convert');\n",
              "        buttonEl.style.display =\n",
              "          google.colab.kernel.accessAllowed ? 'block' : 'none';\n",
              "\n",
              "        async function convertToInteractive(key) {\n",
              "          const element = document.querySelector('#df-8289eebc-05d5-40e2-921b-5d737e0e9fec');\n",
              "          const dataTable =\n",
              "            await google.colab.kernel.invokeFunction('convertToInteractive',\n",
              "                                                     [key], {});\n",
              "          if (!dataTable) return;\n",
              "\n",
              "          const docLinkHtml = 'Like what you see? Visit the ' +\n",
              "            '<a target=\"_blank\" href=https://colab.research.google.com/notebooks/data_table.ipynb>data table notebook</a>'\n",
              "            + ' to learn more about interactive tables.';\n",
              "          element.innerHTML = '';\n",
              "          dataTable['output_type'] = 'display_data';\n",
              "          await google.colab.output.renderOutput(dataTable, element);\n",
              "          const docLink = document.createElement('div');\n",
              "          docLink.innerHTML = docLinkHtml;\n",
              "          element.appendChild(docLink);\n",
              "        }\n",
              "      </script>\n",
              "    </div>\n",
              "  </div>\n",
              "  "
            ]
          },
          "metadata": {},
          "execution_count": 16
        }
      ]
    },
    {
      "cell_type": "code",
      "source": [
        "df_entrenamiento.info()"
      ],
      "metadata": {
        "colab": {
          "base_uri": "https://localhost:8080/"
        },
        "id": "u8o3Uh1GkSel",
        "outputId": "48bf72cb-7943-4c43-ae6f-f4411fbb199e"
      },
      "execution_count": null,
      "outputs": [
        {
          "output_type": "stream",
          "name": "stdout",
          "text": [
            "<class 'pandas.core.frame.DataFrame'>\n",
            "Int64Index: 11087 entries, 1 to 11087\n",
            "Data columns (total 20 columns):\n",
            " #   Column                        Non-Null Count  Dtype  \n",
            "---  ------                        --------------  -----  \n",
            " 0   title                         11087 non-null  object \n",
            " 1   headline                      11086 non-null  object \n",
            " 2   is_practice_test_course       11087 non-null  bool   \n",
            " 3   bestseller                    11087 non-null  object \n",
            " 4   captions                      9142 non-null   object \n",
            " 5   rating                        11087 non-null  float64\n",
            " 6   num_published_lectures        11087 non-null  int64  \n",
            " 7   num_published_practice_tests  11087 non-null  int64  \n",
            " 8   locale                        11087 non-null  object \n",
            " 9   created_date                  11087 non-null  object \n",
            " 10  instructional_level_simple    11082 non-null  object \n",
            " 11  published_date                11087 non-null  object \n",
            " 12  last_update_date              9805 non-null   object \n",
            " 13  content_info_short            11087 non-null  object \n",
            " 14  instructors                   11086 non-null  object \n",
            " 15  category                      11087 non-null  object \n",
            " 16  subcategory                   11068 non-null  object \n",
            " 17  objectives                    11086 non-null  object \n",
            " 18  list_price                    11087 non-null  object \n",
            " 19  discount_price                10103 non-null  object \n",
            "dtypes: bool(1), float64(1), int64(2), object(16)\n",
            "memory usage: 1.7+ MB\n"
          ]
        }
      ]
    },
    {
      "cell_type": "markdown",
      "source": [
        "# Limpieza y transformación de datos (magia parte 2 -- MD)"
      ],
      "metadata": {
        "id": "zjaTnfxkyvo8"
      }
    },
    {
      "cell_type": "code",
      "source": [
        "df['instructional_level_simple'].value_counts()\n"
      ],
      "metadata": {
        "colab": {
          "base_uri": "https://localhost:8080/"
        },
        "id": "q0Sdce6sG3Lh",
        "outputId": "0c6dcad3-720d-406c-b594-038ac2c7cc59"
      },
      "execution_count": null,
      "outputs": [
        {
          "output_type": "execute_result",
          "data": {
            "text/plain": [
              "Todos los niveles    5233\n",
              "Principiante         3830\n",
              "Intermedio           1863\n",
              "Experto               395\n",
              "Name: instructional_level_simple, dtype: int64"
            ]
          },
          "metadata": {},
          "execution_count": 39
        }
      ]
    },
    {
      "cell_type": "code",
      "source": [
        "columnas = ['is_practice_test_course', 'rating', 'num_published_lectures', 'num_published_practice_tests', 'bestseller']\n",
        "df = df[columnas]"
      ],
      "metadata": {
        "id": "VmknCWkQsmUR"
      },
      "execution_count": null,
      "outputs": []
    },
    {
      "cell_type": "markdown",
      "source": [
        "# Territorio de Aprendizaje Automático\n",
        "Se mira y no se toca"
      ],
      "metadata": {
        "id": "i2jRJmQ-tD4Z"
      }
    },
    {
      "cell_type": "code",
      "source": [
        "# Datos para probar\n",
        "X = df_entrenamiento[df_entrenamiento.columns.drop('bestseller')]\n",
        "y = df_entrenamiento['bestseller']\n",
        "\n",
        "# Creamos el objeto del modelo\n",
        "clf = sk.ensemble.RandomForestClassifier(n_estimators=3000, criterion='gini', max_depth=5, n_jobs=-1, random_state=42)\n",
        "\n",
        "scores = []\n",
        "kf = sklearn.model_selection.KFold(n_splits=10, shuffle=True, random_state=42)\n",
        "for train, test in kf.split(X):\n",
        "    X_train, X_test, y_train, y_test = X[train], X[test], y[train], y[test]\n",
        "\n",
        "    # Entrenamos el modelo\n",
        "    clf.fit(X_train, y_train)\n",
        "\n",
        "    # Predecimos\n",
        "    y_pred = clf.predict(X_test)\n",
        "\n",
        "    # Medimos la performance de la predicción\n",
        "    score = sk.metrics.accuracy_score(y_test, y_pred)\n",
        "    print(score)\n",
        "    scores.append(score)\n",
        "\n",
        "print(np.mean(scores), np.std(scores))"
      ],
      "metadata": {
        "id": "PoAhfAjlr-rp"
      },
      "execution_count": null,
      "outputs": []
    },
    {
      "cell_type": "code",
      "source": [
        "# Datos a predecir \n",
        "X_prueba = df_prueba[df_prueba.columns.drop('bestseller')]\n",
        "\n",
        "# Entrenamos el modelo con todos los datos\n",
        "## binning entropia / WoE --> X, y\n",
        "clf.fit(X, y)\n",
        "\n",
        "# Predecimos\n",
        "df_prueba['bestseller'] = clf.predict(X_prueba)\n",
        "\n",
        "# Grabamos\n",
        "df_prueba['bestseller'].to_csv('/content/solucion.csv')"
      ],
      "metadata": {
        "id": "XiLRQP0qt9og"
      },
      "execution_count": null,
      "outputs": []
    }
  ]
}