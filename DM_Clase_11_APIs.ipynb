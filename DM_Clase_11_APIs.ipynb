{
  "nbformat": 4,
  "nbformat_minor": 0,
  "metadata": {
    "colab": {
      "name": "Clase 11 - APIs.ipynb",
      "provenance": [],
      "collapsed_sections": [],
      "toc_visible": true,
      "include_colab_link": true
    },
    "kernelspec": {
      "name": "python3",
      "display_name": "Python 3"
    },
    "language_info": {
      "name": "python"
    }
  },
  "cells": [
    {
      "cell_type": "markdown",
      "metadata": {
        "id": "view-in-github",
        "colab_type": "text"
      },
      "source": [
        "<a href=\"https://colab.research.google.com/github/gu1lleom/Colab-Clases/blob/main/DM_Clase_11_APIs.ipynb\" target=\"_parent\"><img src=\"https://colab.research.google.com/assets/colab-badge.svg\" alt=\"Open In Colab\"/></a>"
      ]
    },
    {
      "cell_type": "markdown",
      "source": [
        "# APIs\n",
        "\n",
        "Las APIs (*application programming interfase*) son un conjunto de funciones y procedimientos que permiten la creación de aplicaciones que acceden a características o datos de un sistema operativo, aplicación u otro servicio.\n",
        "El formato más utilizado para intercambiar datos es json\n",
        "\n"
      ],
      "metadata": {
        "id": "MXht47msunA0"
      }
    },
    {
      "cell_type": "markdown",
      "source": [
        "## json"
      ],
      "metadata": {
        "id": "pYW2e5gV8JbS"
      }
    },
    {
      "cell_type": "code",
      "source": [
        "import json\n",
        "\n",
        "poke = {\n",
        "    \"id\": 132,\n",
        "    \"name\": \"ditto\",\n",
        "    \"abilities\": [\"limber\", \"imposter\"],\n",
        "    \"base_experience\": 101,\n",
        "    \"height\": 3,\n",
        "    \"weight\": 40,\n",
        "    \"stats\": [\n",
        "        {\n",
        "            \"name\": \"hp\",\n",
        "            \"effort\": 1\n",
        "        },\n",
        "        {\n",
        "            \"name\": \"attack\",\n",
        "            \"effort\": 0\n",
        "        },\n",
        "        {\n",
        "            \"name\": \"defense\",\n",
        "            \"effort\": 0\n",
        "        }\n",
        "    ]\n",
        "}\n",
        "poke"
      ],
      "metadata": {
        "colab": {
          "base_uri": "https://localhost:8080/"
        },
        "id": "vEKSTy1RS-O9",
        "outputId": "f7971392-9c16-4628-e427-270434f5e992"
      },
      "execution_count": null,
      "outputs": [
        {
          "output_type": "execute_result",
          "data": {
            "text/plain": [
              "{'abilities': ['limber', 'imposter'],\n",
              " 'base_experience': 101,\n",
              " 'height': 3,\n",
              " 'id': 132,\n",
              " 'name': 'ditto',\n",
              " 'stats': [{'effort': 1, 'name': 'hp'},\n",
              "  {'effort': 0, 'name': 'attack'},\n",
              "  {'effort': 0, 'name': 'defense'}],\n",
              " 'weight': 40}"
            ]
          },
          "metadata": {},
          "execution_count": 13
        }
      ]
    },
    {
      "cell_type": "code",
      "source": [
        "poke_str = json.dumps(poke)\n",
        "print(poke_str)"
      ],
      "metadata": {
        "colab": {
          "base_uri": "https://localhost:8080/"
        },
        "id": "W-Co6U0MU4ML",
        "outputId": "cac4997c-d7ff-45df-f74b-c1d0cc6e26b1"
      },
      "execution_count": null,
      "outputs": [
        {
          "output_type": "stream",
          "name": "stdout",
          "text": [
            "{\"id\": 132, \"name\": \"ditto\", \"abilities\": [\"limber\", \"imposter\"], \"base_experience\": 101, \"height\": 3, \"weight\": 40, \"stats\": [{\"name\": \"hp\", \"effort\": 1}, {\"name\": \"attack\", \"effort\": 0}, {\"name\": \"defense\", \"effort\": 0}]}\n"
          ]
        }
      ]
    },
    {
      "cell_type": "code",
      "source": [
        "poke = json.loads(poke_str)\n",
        "print(poke[\"name\"])"
      ],
      "metadata": {
        "colab": {
          "base_uri": "https://localhost:8080/"
        },
        "id": "DEbuBJBKU5BI",
        "outputId": "9958ab5d-309d-49ad-fb7d-86d68a023863"
      },
      "execution_count": null,
      "outputs": [
        {
          "output_type": "stream",
          "name": "stdout",
          "text": [
            "ditto\n"
          ]
        }
      ]
    },
    {
      "cell_type": "markdown",
      "source": [
        "## API de pokemones"
      ],
      "metadata": {
        "id": "Y_m_oDhyO6q3"
      }
    },
    {
      "cell_type": "code",
      "source": [
        "# https://github.com/public-apis/public-apis\n",
        "import pprint\n",
        "import requests\n",
        "\n",
        "res = requests.get(\"https://pokeapi.co/api/v2/pokemon/ditto\")\n",
        "\n",
        "if res.status_code == 200: # 200 == ok -- https://developer.mozilla.org/en-US/docs/Web/HTTP/Status\n",
        "    pprint.pprint(res.json())"
      ],
      "metadata": {
        "id": "HsmVobWkVEE1"
      },
      "execution_count": null,
      "outputs": []
    },
    {
      "cell_type": "markdown",
      "source": [
        "## API de Coindesk"
      ],
      "metadata": {
        "id": "_uRkqZYNVyUM"
      }
    },
    {
      "cell_type": "code",
      "source": [
        "import pprint\n",
        "import requests\n",
        "\n",
        "# https://github.com/public-apis/public-apis\n",
        "res = requests.get(\"https://api.coindesk.com/v1/bpi/currentprice.json\")\n",
        "\n",
        "if res.status_code == 200: # 200 == ok -- https://developer.mozilla.org/en-US/docs/Web/HTTP/Status\n",
        "    pprint.pprint(res.json())"
      ],
      "metadata": {
        "id": "rYyM8_DcWDsA",
        "outputId": "843c0484-e3e0-4401-986a-a1e8505e29dc",
        "colab": {
          "base_uri": "https://localhost:8080/"
        }
      },
      "execution_count": null,
      "outputs": [
        {
          "output_type": "stream",
          "name": "stdout",
          "text": [
            "{'bpi': {'EUR': {'code': 'EUR',\n",
            "                 'description': 'Euro',\n",
            "                 'rate': '27,584.3321',\n",
            "                 'rate_float': 27584.3321,\n",
            "                 'symbol': '&euro;'},\n",
            "         'GBP': {'code': 'GBP',\n",
            "                 'description': 'British Pound Sterling',\n",
            "                 'rate': '23,594.0662',\n",
            "                 'rate_float': 23594.0662,\n",
            "                 'symbol': '&pound;'},\n",
            "         'USD': {'code': 'USD',\n",
            "                 'description': 'United States Dollar',\n",
            "                 'rate': '29,662.7730',\n",
            "                 'rate_float': 29662.773,\n",
            "                 'symbol': '&#36;'}},\n",
            " 'chartName': 'Bitcoin',\n",
            " 'disclaimer': 'This data was produced from the CoinDesk Bitcoin Price Index '\n",
            "               '(USD). Non-USD currency data converted using hourly conversion '\n",
            "               'rate from openexchangerates.org',\n",
            " 'time': {'updated': 'Jun 3, 2022 23:22:00 UTC',\n",
            "          'updatedISO': '2022-06-03T23:22:00+00:00',\n",
            "          'updateduk': 'Jun 4, 2022 at 00:22 BST'}}\n"
          ]
        }
      ]
    }
  ]
}